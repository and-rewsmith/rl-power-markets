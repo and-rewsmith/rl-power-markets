{
 "cells": [
  {
   "cell_type": "code",
   "execution_count": null,
   "metadata": {
    "vscode": {
     "languageId": "plaintext"
    }
   },
   "outputs": [],
   "source": [
    "import numpy as np\n",
    "import matplotlib.pyplot as plt\n",
    "\n",
    "# Create input values\n",
    "x = np.linspace(-5, 5, 200)\n",
    "\n",
    "# Original tanh\n",
    "y_original = np.tanh(x)\n",
    "\n",
    "# Transformed tanh with your parameters\n",
    "vertical_scaling = 1\n",
    "horizontal_scaling = 1\n",
    "vertical_shift = 2\n",
    "y_transformed = vertical_shift + vertical_scaling * np.tanh(x / horizontal_scaling)\n",
    "\n",
    "# Plotting\n",
    "plt.figure(figsize=(10, 6))\n",
    "plt.plot(x, y_original, label='Original tanh', linestyle='--')\n",
    "plt.plot(x, y_transformed, label='Transformed tanh')\n",
    "plt.grid(True)\n",
    "plt.legend()\n",
    "plt.title('Original vs Transformed tanh')\n",
    "plt.xlabel('x')\n",
    "plt.ylabel('y')\n",
    "plt.axhline(y=0, color='k', linestyle='-', alpha=0.3)\n",
    "plt.axvline(x=0, color='k', linestyle='-', alpha=0.3)\n",
    "plt.show()"
   ]
  }
 ],
 "metadata": {
  "language_info": {
   "name": "python"
  }
 },
 "nbformat": 4,
 "nbformat_minor": 2
}
